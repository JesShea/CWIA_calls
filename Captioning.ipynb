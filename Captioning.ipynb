{
 "cells": [
  {
   "cell_type": "code",
   "execution_count": 1,
   "metadata": {},
   "outputs": [],
   "source": [
    "import wave, math, contextlib\n",
    "import speech_recognition as sr\n",
    "from moviepy.editor import AudioFileClip"
   ]
  },
  {
   "cell_type": "code",
   "execution_count": 2,
   "metadata": {},
   "outputs": [
    {
     "name": "stderr",
     "output_type": "stream",
     "text": [
      "chunk:   3%|▎         | 275/8566 [00:00<00:03, 2747.75it/s, now=None]"
     ]
    },
    {
     "name": "stdout",
     "output_type": "stream",
     "text": [
      "MoviePy - Writing audio in transcribed_speech.wav\n"
     ]
    },
    {
     "name": "stderr",
     "output_type": "stream",
     "text": [
      "                                                                      \r"
     ]
    },
    {
     "name": "stdout",
     "output_type": "stream",
     "text": [
      "MoviePy - Done.\n"
     ]
    }
   ],
   "source": [
    "transcribed_audio_file_name = \"transcribed_speech.wav\"\n",
    "zoom_video_file_name = \"Tonya_to_caption.mp4\"\n",
    "audioclip = AudioFileClip(zoom_video_file_name)\n",
    "audioclip.write_audiofile(transcribed_audio_file_name)\n",
    "with contextlib.closing(wave.open(transcribed_audio_file_name,'r')) as f:\n",
    "    frames = f.getnframes()\n",
    "    rate = f.getframerate()\n",
    "    duration = frames / float(rate)\n",
    "total_duration = math.ceil(duration / 60)\n",
    "r = sr.Recognizer()\n",
    "for i in range(0, total_duration):\n",
    "    with sr.AudioFile(transcribed_audio_file_name) as source:\n",
    "        audio = r.record(source, offset=i*60, duration=60)\n",
    "    f = open(\"transcription.txt\", \"a\")\n",
    "    f.write(r.recognize_google(audio))\n",
    "    f.write(\" \")\n",
    "f.close()\n"
   ]
  },
  {
   "cell_type": "code",
   "execution_count": 3,
   "metadata": {},
   "outputs": [
    {
     "data": {
      "text/plain": [
       "17131968"
      ]
     },
     "execution_count": 3,
     "metadata": {},
     "output_type": "execute_result"
    }
   ],
   "source": [
    "frames"
   ]
  },
  {
   "cell_type": "markdown",
   "metadata": {},
   "source": [
    "# <center>  Using IBM Speech to Text"
   ]
  },
  {
   "cell_type": "markdown",
   "metadata": {},
   "source": [
    "### Install Packages"
   ]
  },
  {
   "cell_type": "code",
   "execution_count": 4,
   "metadata": {},
   "outputs": [],
   "source": [
    "import subprocess\n",
    "from ibm_watson import SpeechToTextV1\n",
    "from ibm_watson.websocket import RecognizeCallback, AudioSource\n",
    "from ibm_cloud_sdk_core.authenticators import IAMAuthenticator"
   ]
  },
  {
   "cell_type": "markdown",
   "metadata": {},
   "source": [
    "### Extract Audio"
   ]
  },
  {
   "cell_type": "code",
   "execution_count": 5,
   "metadata": {},
   "outputs": [
    {
     "data": {
      "text/plain": [
       "0"
      ]
     },
     "execution_count": 5,
     "metadata": {},
     "output_type": "execute_result"
    }
   ],
   "source": [
    "command = 'ffmpeg -i Tonya_to_caption.mp4 -ab 160k -ar 44100 -vn audio.wav'\n",
    "subprocess.call(command, shell=True)"
   ]
  },
  {
   "cell_type": "markdown",
   "metadata": {},
   "source": [
    "### Set up STT (Speech to Text) Service"
   ]
  },
  {
   "cell_type": "code",
   "execution_count": 10,
   "metadata": {},
   "outputs": [],
   "source": [
    "apikey = 'c1x5EYMAHJfjQg8npVUdOkGVXQQl7xUEH8Wx0VRM32Zj'\n",
    "url = 'https://api.us-east.speech-to-text.watson.cloud.ibm.com/instances/11f519f7-c377-421f-bf38-7127fef6094c'"
   ]
  },
  {
   "cell_type": "code",
   "execution_count": 11,
   "metadata": {},
   "outputs": [],
   "source": [
    "authenticator = IAMAuthenticator(apikey)\n",
    "stt = SpeechToTextV1(authenticator=authenticator)\n",
    "stt.set_service_url(url)"
   ]
  },
  {
   "cell_type": "markdown",
   "metadata": {},
   "source": [
    "### Open Audio Source and Convert"
   ]
  },
  {
   "cell_type": "code",
   "execution_count": 14,
   "metadata": {},
   "outputs": [],
   "source": [
    "with open('audio.wav', 'rb') as f:\n",
    "    res = stt.recognize(audio=f, content_type='audio/wav', model='en-US_NarrowbandModel', continuous=True).get_result()"
   ]
  },
  {
   "cell_type": "markdown",
   "metadata": {},
   "source": [
    "### Process Results and Output to Text"
   ]
  },
  {
   "cell_type": "code",
   "execution_count": 16,
   "metadata": {},
   "outputs": [
    {
     "data": {
      "text/plain": [
       "16"
      ]
     },
     "execution_count": 16,
     "metadata": {},
     "output_type": "execute_result"
    }
   ],
   "source": [
    "len(res['results'])"
   ]
  },
  {
   "cell_type": "code",
   "execution_count": 17,
   "metadata": {},
   "outputs": [],
   "source": [
    "text = [result['alternatives'][0]['transcript'].rstrip() + '.\\n' for result in res['results']]"
   ]
  },
  {
   "cell_type": "code",
   "execution_count": 18,
   "metadata": {},
   "outputs": [],
   "source": [
    "text = [para[0].title() + para[1:] for para in text]\n",
    "transcript = ''.join(text)\n",
    "with open('output.txt', 'w') as out:\n",
    "    out.writelines(transcript)"
   ]
  },
  {
   "cell_type": "code",
   "execution_count": 19,
   "metadata": {},
   "outputs": [
    {
     "data": {
      "text/plain": [
       "\"Hi hi and thanks so much for being with us today so that we can get to know a little bit more about what you do to start could you please tell us a little bit about your position.\\nSure I'm a senior I. T. project manager.\\nI guess you want to know when I do right.\\nA little really my my focus is really driving coordinating and delivering I. T. project obviously with any of the issues we want to ensure that we are using leading edge technology and were efficient and these are all things that we work to enhance the customer journey I'm really looking forward to a lot of things are going to be coming out of I. T. N. error cannot seem what is the most interesting project to work on it.\\nFirst thing in I. T. everything is pretty cool although aviation I would say the most interesting project or the the product that really had a lasting impression was my very first program that I have to manage coming into your Canada it was very dry material is a regulatory project but what that project allowed me to do was to really dig deep and learn about aviation industry as a whole and I truly understand the complexity of aviation and through that project I was.\\nAble to have this new found appreciation for for aviation as a whole so I would say this ryu's project that I ever worked in was probably the coolest and really in a rush my life and give me an opportunity to really want to learn more about this industry and understand more that it's not just pilots and flight attendants no it's so much more and so many interesting people I thank you a lot of times people look at the topic of a project and kind of decide whether or not it's interesting or cool but sometimes it's about what the experience of working on the project is like you're talking bout right.\\nSure what are some of the challenges to prices the roadblocks you faced in your career Kobe nineteen and it's up to mediation industry that has been a huge challenge just navigating that learning how we're going to a doctor any nor right so I wouldn't say it necessarily a roadblock other than you know the physical border closure after road blocking itself but I think what it's done it's a really allowed us to hone in on a lot of the opportunities that we were looking forward to doing and it's actually created a lot of other opportunities in new exciting things to be innovative and a leader and so.\\nCo in nineteen.\\nHuge not that.\\nThat's kind of the answer we're getting from a lot of people but in different ways they like how to cool the impact uses great to hear about that what is the coolest thing you've got to do in your current position right now working with my metrics I think by Max is going to be playing back she'd roll with thirty nor %HESITATION the future aviation so so many exciting things to come out from that I'm really looking forward to %HESITATION Canada being a lead a leader in that space again a lot of new stuff really really knew right now but it's it's probably the most exciting thing that I've ever worked on today hopefully when we catch up with you in a few months you can tell us a bit more about it if you could ask your role model anything what would you.\\nWhat would I ask me no.\\nI don't I've never really been one for %HESITATION role models I might ask me how to lose a scope and nineteen pounds but I just came late last year.\\nI don't really have much of a question that I asked my role model really ask myself I think for me it was just important to make sure that I was able to create a space where I felt comfortable and and I can see myself and and I was being true to myself and my process so maybe asked some of the kids I meant for you know role model because you just are not that type of a person to look up to the %HESITATION particular individuals or is it because you had a hard time relating with people that you come across I would say the first I'm just not really that type of person like I've had a meeting Perrin's %HESITATION I have a meeting Terence I have amazing family but I'm just really not that type of person to look up to anybody else to inspire to my aspirations are going to %HESITATION from me and what I want to do for myself right I'm an individual I have my own time I have my only and I want to make sure that everything that I do it's true to me I think growing up as a young girl and being black and being constantly be directed and told what you should learn C. C. over here really has ensured that I make sure that I stay true to myself and that really was the only thing that I look forward to or look up to.\\nWhat am I going to look like and make sure stopping managers for that's really wonderful I think a lot of my struggle with being grounded in our authentic self the essential for us to hear that from other P. and my last question for you today is what is one piece of advice you have for creating professional success fine.\\nA mentor I think it's extremely important and it doesn't necessarily need to be in the same career the same space with your immediate circle I think you can find a mentor outside %HESITATION your career that will really help you challenge how you approach your career and play instrumental instrumental and how you manage your professional life so I think she find out find a mentor find somebody that you'll be able to learn from and I can help you navigate in no uncertain area so you're not going installed Langley and learn from other people's mistakes you don't have to make a mistake to say that you learn from it or other people that probably made a mistake before you use that information and apply it to your life %HESITATION you don't have to make the mistakes you can learn from other right right absolutely well thank you so much for joining us today Tonya insuring with us what you do at work with %HESITATION Canada.\\nThanks for having me.\\n\""
      ]
     },
     "execution_count": 19,
     "metadata": {},
     "output_type": "execute_result"
    }
   ],
   "source": [
    "transcript"
   ]
  },
  {
   "cell_type": "code",
   "execution_count": null,
   "metadata": {},
   "outputs": [],
   "source": []
  }
 ],
 "metadata": {
  "kernelspec": {
   "display_name": "Python 3",
   "language": "python",
   "name": "python3"
  },
  "language_info": {
   "codemirror_mode": {
    "name": "ipython",
    "version": 3
   },
   "file_extension": ".py",
   "mimetype": "text/x-python",
   "name": "python",
   "nbconvert_exporter": "python",
   "pygments_lexer": "ipython3",
   "version": "3.8.3"
  }
 },
 "nbformat": 4,
 "nbformat_minor": 4
}
